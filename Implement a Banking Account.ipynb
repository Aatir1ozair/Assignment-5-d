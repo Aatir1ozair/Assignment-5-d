{
 "cells": [
  {
   "cell_type": "code",
   "execution_count": 1,
   "id": "40be8505",
   "metadata": {},
   "outputs": [
    {
     "name": "stdout",
     "output_type": "stream",
     "text": [
      "Enter TitleAshish\n",
      "Enter Account Balance5000\n",
      "Ashish\n",
      "5000\n",
      "Enter Interest Rate5\n",
      "5\n"
     ]
    }
   ],
   "source": [
    "#Implement a Banking Account\n",
    "\n",
    "\n",
    "class Account:\n",
    "    \n",
    "    def __init__(self):\n",
    "        \n",
    "        self.title=input(\"Enter Title\")\n",
    "        self.balance=input(\"Enter Account Balance\")\n",
    "        \n",
    "\n",
    "    def Title_(self):\n",
    "        return self.title\n",
    "\n",
    "    def Balance_(self):\n",
    "        return self.balance\n",
    "    \n",
    "    \n",
    "class SavingAccount(Account):\n",
    "    \n",
    "    def __init__(self):\n",
    "        \n",
    "        self.interestrate=input(\"Enter Interest Rate\")\n",
    "        \n",
    "        \n",
    "    def Interest_Rate(self):\n",
    "        \n",
    "        return self.interestrate\n",
    "    \n",
    "x=Account()\n",
    "print(x.Title_())\n",
    "print(x.Balance_())\n",
    "y=SavingAccount()\n",
    "print(y.Interest_Rate())"
   ]
  },
  {
   "cell_type": "code",
   "execution_count": null,
   "id": "c5bcc90b",
   "metadata": {},
   "outputs": [],
   "source": []
  }
 ],
 "metadata": {
  "kernelspec": {
   "display_name": "Python 3 (ipykernel)",
   "language": "python",
   "name": "python3"
  },
  "language_info": {
   "codemirror_mode": {
    "name": "ipython",
    "version": 3
   },
   "file_extension": ".py",
   "mimetype": "text/x-python",
   "name": "python",
   "nbconvert_exporter": "python",
   "pygments_lexer": "ipython3",
   "version": "3.9.12"
  }
 },
 "nbformat": 4,
 "nbformat_minor": 5
}
